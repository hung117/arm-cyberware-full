{
 "cells": [
  {
   "cell_type": "code",
   "execution_count": 1,
   "metadata": {},
   "outputs": [
    {
     "name": "stderr",
     "output_type": "stream",
     "text": [
      "2023-10-19 14:18:36.667922: I tensorflow/core/platform/cpu_feature_guard.cc:182] This TensorFlow binary is optimized to use available CPU instructions in performance-critical operations.\n",
      "To enable the following instructions: AVX2 FMA, in other operations, rebuild TensorFlow with the appropriate compiler flags.\n"
     ]
    },
    {
     "name": "stdout",
     "output_type": "stream",
     "text": [
      "/media/james/Datasets_Drive/semg_for_basic_hand_movement/Database_1/female_1.mat\n",
      "[0, 0, 0, 0, 0, 0, 0, 0, 0, 0, 0, 0, 0, 0, 0, 0, 0, 0, 0, 0, 0, 0, 0, 0, 0, 0, 0, 0, 0, 0]\n",
      "[1, 1, 1, 1, 1, 1, 1, 1, 1, 1, 1, 1, 1, 1, 1, 1, 1, 1, 1, 1, 1, 1, 1, 1, 1, 1, 1, 1, 1, 1]\n",
      "[2, 2, 2, 2, 2, 2, 2, 2, 2, 2, 2, 2, 2, 2, 2, 2, 2, 2, 2, 2, 2, 2, 2, 2, 2, 2, 2, 2, 2, 2]\n",
      "[3, 3, 3, 3, 3, 3, 3, 3, 3, 3, 3, 3, 3, 3, 3, 3, 3, 3, 3, 3, 3, 3, 3, 3, 3, 3, 3, 3, 3, 3]\n",
      "[4, 4, 4, 4, 4, 4, 4, 4, 4, 4, 4, 4, 4, 4, 4, 4, 4, 4, 4, 4, 4, 4, 4, 4, 4, 4, 4, 4, 4, 4]\n",
      "[5, 5, 5, 5, 5, 5, 5, 5, 5, 5, 5, 5, 5, 5, 5, 5, 5, 5, 5, 5, 5, 5, 5, 5, 5, 5, 5, 5, 5, 5]\n",
      "(540000, 3)\n",
      "[0.00029869612543525175, 0.0002797453486948402, 5]\n",
      "[3.07578924e-04 2.63939977e-04 3.77188371e-04 ... 3.01992964e-04\n",
      " 2.86972881e-04 5.00000000e+00]\n",
      "[0.00030795 0.00203258 0.00015868 ... 0.00049963 0.00036788 0.        ]\n"
     ]
    }
   ],
   "source": [
    "import numpy as np\n",
    "import matplotlib.pyplot as plt\n",
    "import scipy.io\n",
    "import numpy as np\n",
    "import tensorflow as tf\n",
    "import keras\n",
    "from tensorflow.keras import layers\n",
    "import math\n",
    "import urllib\n",
    "import numpy as np\n",
    "import pandas as pd\n",
    "import tensorflow as tf\n",
    "from tensorflow import keras\n",
    "from tensorflow.keras import layers\n",
    "import tensorflow_decision_forests as tfdf\n",
    "import cv2\n",
    "\n",
    "dataDir = \"/media/james/Datasets_Drive/semg_for_basic_hand_movement/Database_1/\"\n",
    "# dataFiles=['female_1.mat','female_2.mat','female_3.mat','male_1.mat','male_2.mat']\n",
    "dataFiles=['female_1.mat']\n",
    "\n",
    "data = [] #processed and normalised with pose_idx\n",
    "e = 2.718281828459045\n",
    "\n",
    "def normalize_arr(arr,i):\n",
    "    signal = arr.copy()\n",
    "    signal = e**signal\n",
    "    signal /= np.sum(signal)\n",
    "    signal = np.clip(signal,1e-7,1e+7)\n",
    "    signal = signal.tolist()\n",
    "    signal.append(int(i/2))\n",
    "    signal = np.array(signal)\n",
    "    return signal\n",
    "\n",
    "def get_channel_pair(chn1,chn2,i):\n",
    "    paired_data = []\n",
    "    label = list((np.array(chn1).T)[-1].T.astype(int))\n",
    "\n",
    "    chn1 =  list(np.delete(chn1,0,1))\n",
    "    chn2 =  list(np.delete(chn2,0,1))\n",
    "    # print(np.array(chn1).shape)\n",
    "    print(label)\n",
    "    # print('label[i]: ',label[i])\n",
    "    for chunk1 in chn1:\n",
    "        chunk2 = chn2[i].T\n",
    "        chunk1 = chunk1.T\n",
    "\n",
    "        while(len(chunk1)>0):\n",
    "            row=[chunk1[0],chunk2[0],label[5]]\n",
    "            paired_data.append(row)\n",
    "\n",
    "            chunk1 = list(chunk1)\n",
    "            chunk2 = list(chunk2)\n",
    "            chunk1.pop(0)\n",
    "            chunk2.pop(0)\n",
    "\n",
    "    return paired_data\n",
    "\n",
    "\n",
    "\n",
    "\n",
    "for file in dataFiles:\n",
    "    data_path = dataDir+file\n",
    "    print(data_path)\n",
    "    mat = scipy.io.loadmat(data_path)\n",
    "    mat.pop(\"__header__\")\n",
    "    mat.pop(\"__version__\")\n",
    "    mat.pop(\"__globals__\")\n",
    "    i=0\n",
    "    for channel in mat: \n",
    "        if(i%2==0):\n",
    "            channel2 =  channel[:-1]\n",
    "            channel2 += '2'\n",
    "            sigs1 = mat[channel] \n",
    "            sigs2 = mat[channel2]\n",
    "            sigs1_norm = []\n",
    "            sigs2_norm = []\n",
    "\n",
    "            for signal in sigs1:\n",
    "                signal = normalize_arr(signal,i)\n",
    "                sigs1_norm.append(signal)\n",
    "            for signal in sigs2:\n",
    "                signal = normalize_arr(signal,i)\n",
    "                sigs2_norm.append(signal)\n",
    "\n",
    "            if i==0:\n",
    "                data = get_channel_pair(sigs1_norm,sigs2_norm,i)\n",
    "                # print(data)\n",
    "            else:\n",
    "                None\n",
    "                data_lc = get_channel_pair(sigs1_norm,sigs2_norm,i)\n",
    "                data += data_lc\n",
    "                # data = data_lc\n",
    "        i+=1\n",
    "print(np.array(data).shape)\n",
    "print(data[-3])\n",
    "import pandas as pd\n",
    "import math  \n",
    "def reshape_data(n,df_data):\n",
    "    # get n channel 1 and n channel 2 into 1 sample\n",
    "    chn1 = df_data['channel1'].to_numpy()\n",
    "    chn2 = df_data['channel2'].to_numpy()\n",
    "    label = df_data['label'].to_numpy()\n",
    "    i = 0\n",
    "    newShape_data = []\n",
    "    time = 0\n",
    "    while i < chn1.size:\n",
    "        #currently  the size is 540000, tack batch 20 signals, the loop will rn 27000 times\n",
    "        reshape_data = np.concatenate((chn1[i:i+n], chn2[i:i+n]))\n",
    "        tmp = reshape_data.tolist()\n",
    "        tmp.append(int(label[i]))\n",
    "        tmp = np.array(tmp)\n",
    "\n",
    "        if(len(reshape_data)==n*2):\n",
    "            newShape_data.append(tmp)\n",
    "        i += n\n",
    "        time += 1\n",
    "\n",
    "    newShape_data = np.array(newShape_data)\n",
    "    return newShape_data\n",
    "\n",
    "def split_X(arr):\n",
    "    arr = arr.T\n",
    "    arr = arr[0:-1]\n",
    "    arr = arr.T\n",
    "    return arr\n",
    "def split_y(arr):\n",
    "    arr = arr.T\n",
    "    arr = arr[-1]\n",
    "    arr = arr.T.astype(np.uint8)\n",
    "    return arr\n",
    "def reshape_arr(arr):\n",
    "    new_shape = []\n",
    "    for row in arr:\n",
    "        n_len =int(math.sqrt(len(row)))\n",
    "        row = row.reshape(n_len,n_len)\n",
    "        new_shape.append(row)\n",
    "    return np.array(new_shape)\n",
    "def reshape_arr_img_transfer(arr,n):\n",
    "    new_shape = []\n",
    "    for row in arr:\n",
    "        n_len = len(row)\n",
    "        row =np.pad(row,(0,n-n_len),'constant')\n",
    "        row = row.reshape(n,n)\n",
    "        new_shape.append(row)\n",
    "    return np.array(new_shape)\n",
    "\n",
    "# print(df)\n",
    "dataset = data.copy()\n",
    "df = pd.DataFrame(dataset, columns = ['channel1','channel2','label'])\n",
    "mask = np.random.rand(len(df)) < 0.8\n",
    "dataset_t_v = df[mask] #test & val\n",
    "dataset_test = df[~mask]\n",
    "\n",
    "val_test_mask = np.random.rand(len(dataset_t_v)) < 0.5\n",
    "dataset_train = dataset_t_v[val_test_mask]\n",
    "dataset_val = dataset_t_v[~val_test_mask]\n",
    "# n=392\n",
    "\n",
    "n=1458\n",
    "dataset_train_ar = reshape_data(n,dataset_train)\n",
    "dataset_test_ar = reshape_data(n,dataset_test)\n",
    "dataset_val_ar = reshape_data(n,dataset_val)\n",
    "print(dataset_train_ar[-20:][-1])\n",
    "\n",
    "np.random.shuffle(dataset_train_ar)\n",
    "np.random.shuffle(dataset_test_ar)\n",
    "np.random.shuffle(dataset_val_ar)\n",
    "\n",
    "print(dataset_train_ar[-20:][-1])\n",
    "\n",
    "X = split_X(dataset_train_ar)\n",
    "y = split_y(dataset_train_ar)\n",
    "\n",
    "\n",
    "X_val = split_X(dataset_train_ar)\n",
    "y_val = split_y(dataset_train_ar)\n",
    "\n",
    "X_test = split_X(dataset_test_ar)\n",
    "y_test = split_y(dataset_test_ar)\n",
    "\n",
    "\n",
    "# OPTIONAL TURN X TO NxN\n",
    "X = reshape_arr(X)\n",
    "X_val = reshape_arr(X_val)\n",
    "X_test = reshape_arr(X_test)\n",
    "\n",
    "# OPTIONAL TURN X TO NxN | N>= 150 transfer learning\n",
    "tuple_size = 150\n",
    "X_tl = reshape_arr_img_transfer(X,tuple_size)\n",
    "X_val_tl = reshape_arr_img_transfer(X_val,tuple_size)\n",
    "X_test_tl = reshape_arr_img_transfer(X_test,tuple_size)\n",
    "\n",
    "\n",
    "\n"
   ]
  },
  {
   "cell_type": "code",
   "execution_count": 2,
   "metadata": {},
   "outputs": [
    {
     "name": "stderr",
     "output_type": "stream",
     "text": [
      "2023-10-19 14:19:33.347266: E tensorflow/compiler/xla/stream_executor/cuda/cuda_driver.cc:268] failed call to cuInit: CUDA_ERROR_UNKNOWN: unknown error\n",
      "2023-10-19 14:19:33.347337: I tensorflow/compiler/xla/stream_executor/cuda/cuda_diagnostics.cc:168] retrieving CUDA diagnostic information for host: Inspiron-7591\n",
      "2023-10-19 14:19:33.347354: I tensorflow/compiler/xla/stream_executor/cuda/cuda_diagnostics.cc:175] hostname: Inspiron-7591\n",
      "2023-10-19 14:19:33.347483: I tensorflow/compiler/xla/stream_executor/cuda/cuda_diagnostics.cc:199] libcuda reported version is: 520.61.5\n",
      "2023-10-19 14:19:33.347518: I tensorflow/compiler/xla/stream_executor/cuda/cuda_diagnostics.cc:203] kernel reported version is: 520.61.5\n",
      "2023-10-19 14:19:33.347528: I tensorflow/compiler/xla/stream_executor/cuda/cuda_diagnostics.cc:309] kernel version seems to match DSO: 520.61.5\n"
     ]
    }
   ],
   "source": [
    "loaded_model = tf.keras.models.load_model(\"./models/model2.keras\")"
   ]
  },
  {
   "cell_type": "code",
   "execution_count": 3,
   "metadata": {},
   "outputs": [
    {
     "name": "stdout",
     "output_type": "stream",
     "text": [
      "Model: \"model_2\"\n",
      "_________________________________________________________________\n",
      " Layer (type)                Output Shape              Param #   \n",
      "=================================================================\n",
      " input_6 (InputLayer)        [(None, 150, 150, 3)]     0         \n",
      "                                                                 \n",
      " resnet50 (Functional)       (None, 5, 5, 2048)        23587712  \n",
      "                                                                 \n",
      " dense_8 (Dense)             (None, 5, 5, 128)         262272    \n",
      "                                                                 \n",
      " dense_9 (Dense)             (None, 5, 5, 128)         16512     \n",
      "                                                                 \n",
      " global_average_pooling2d_2  (None, 128)               0         \n",
      "  (GlobalAveragePooling2D)                                       \n",
      "                                                                 \n",
      " dense_10 (Dense)            (None, 6)                 774       \n",
      "                                                                 \n",
      " dropout_2 (Dropout)         (None, 6)                 0         \n",
      "                                                                 \n",
      " dense_11 (Dense)            (None, 6)                 42        \n",
      "                                                                 \n",
      "=================================================================\n",
      "Total params: 23867312 (91.05 MB)\n",
      "Trainable params: 279600 (1.07 MB)\n",
      "Non-trainable params: 23587712 (89.98 MB)\n",
      "_________________________________________________________________\n"
     ]
    }
   ],
   "source": [
    "loaded_model.summary()"
   ]
  },
  {
   "cell_type": "code",
   "execution_count": 4,
   "metadata": {},
   "outputs": [
    {
     "name": "stdout",
     "output_type": "stream",
     "text": [
      "(150,)\n"
     ]
    },
    {
     "data": {
      "text/plain": [
       "(150, 150, 3)"
      ]
     },
     "execution_count": 4,
     "metadata": {},
     "output_type": "execute_result"
    }
   ],
   "source": [
    "def signal_to_3channelimg(arr):\n",
    "    print(arr[0].shape)\n",
    "    rgb_batch_ts =  np.repeat(arr[..., np.newaxis], 3, -1)\n",
    "    rgb_batch_ts.shape\n",
    "    return rgb_batch_ts\n",
    "test_data = X_tl[0]\n",
    "test_data = signal_to_3channelimg(test_data)\n",
    "test_data.shape"
   ]
  },
  {
   "cell_type": "code",
   "execution_count": 5,
   "metadata": {},
   "outputs": [
    {
     "name": "stdout",
     "output_type": "stream",
     "text": [
      "(150, 150)\n",
      "5/5 [==============================] - 5s 725ms/step\n"
     ]
    },
    {
     "data": {
      "text/plain": [
       "array([2, 2, 2, 2, 2, 2, 2, 2, 2, 2, 2, 2, 2, 2, 2, 2, 2, 2, 2, 2, 2, 2,\n",
       "       2, 2, 2, 2, 2, 2, 2, 2, 2, 2, 2, 2, 2, 2, 2, 2, 2, 2, 2, 2, 2, 2,\n",
       "       2, 2, 2, 2, 2, 2, 2, 2, 2, 2, 2, 2, 2, 2, 2, 2, 2, 2, 2, 2, 2, 2,\n",
       "       2, 2, 2, 2, 2, 2, 2, 2, 2, 2, 2, 2, 2, 2, 2, 2, 2, 2, 2, 2, 2, 2,\n",
       "       2, 2, 2, 2, 2, 2, 2, 2, 2, 2, 2, 2, 2, 2, 2, 2, 2, 2, 2, 2, 2, 2,\n",
       "       2, 2, 2, 2, 2, 2, 2, 2, 2, 2, 2, 2, 2, 2, 2, 2, 2, 2, 2, 2, 2, 2,\n",
       "       2, 2, 2, 2, 2, 2, 2, 2, 2, 2, 2, 2, 2, 2, 2, 2])"
      ]
     },
     "execution_count": 5,
     "metadata": {},
     "output_type": "execute_result"
    }
   ],
   "source": [
    "preds = loaded_model.predict(signal_to_3channelimg(X_tl))\n",
    "pred_label = []\n",
    "for prediction in preds:\n",
    "    pred_label.append(np.argmax(prediction))\n",
    "pred_label = np.array(pred_label)\n",
    "pred_label\n"
   ]
  },
  {
   "cell_type": "code",
   "execution_count": 6,
   "metadata": {},
   "outputs": [
    {
     "data": {
      "text/plain": [
       "<matplotlib.image.AxesImage at 0x7f09305aa410>"
      ]
     },
     "execution_count": 6,
     "metadata": {},
     "output_type": "execute_result"
    },
    {
     "data": {
      "image/png": "[encoded data removed]",
      "text/plain": [
       "<Figure size 640x480 with 1 Axes>"
      ]
     },
     "metadata": {},
     "output_type": "display_data"
    }
   ],
   "source": [
    "plt.imshow(X_tl[0])"
   ]
  },
  {
   "cell_type": "code",
   "execution_count": 7,
   "metadata": {},
   "outputs": [
    {
     "data": {
      "text/plain": [
       "<matplotlib.image.AxesImage at 0x7f09300a8350>"
      ]
     },
     "execution_count": 7,
     "metadata": {},
     "output_type": "execute_result"
    },
    {
     "data": {
      "image/png": "[encoded data removed]",
      "text/plain": [
       "<Figure size 640x480 with 1 Axes>"
      ]
     },
     "metadata": {},
     "output_type": "display_data"
    }
   ],
   "source": [
    "plt.imshow(test_data)"
   ]
  },
  {
   "cell_type": "code",
   "execution_count": 8,
   "metadata": {},
   "outputs": [],
   "source": [
    "# export_archive = tf.keras.export.ExportArchive()\n",
    "# export_archive.track(loaded_model)\n",
    "# export_archive.add_endpoint(\n",
    "#     name=\"serve\",\n",
    "#     fn=loaded_model.call,\n",
    "#     input_signature=[tf.TensorSpec(shape=(None,150,150, 3), dtype=tf.float32)],\n",
    "# )\n",
    "# export_archive.write_out(\"./models/serve_model\")\n"
   ]
  },
  {
   "cell_type": "code",
   "execution_count": 9,
   "metadata": {},
   "outputs": [
    {
     "name": "stdout",
     "output_type": "stream",
     "text": [
      "(150, 150)\n"
     ]
    },
    {
     "data": {
      "text/plain": [
       "(1, 150, 150, 3)"
      ]
     },
     "execution_count": 9,
     "metadata": {},
     "output_type": "execute_result"
    }
   ],
   "source": [
    "test_data =np.array( [X[0]])\n",
    "test_data = reshape_arr_img_transfer(test_data,tuple_size)\n",
    "test_data = signal_to_3channelimg(test_data)\n",
    "test_data.shape"
   ]
  },
  {
   "cell_type": "code",
   "execution_count": 10,
   "metadata": {},
   "outputs": [
    {
     "name": "stdout",
     "output_type": "stream",
     "text": [
      "2\n"
     ]
    }
   ],
   "source": [
    "\n",
    "serving_model = tf.saved_model.load(\"./models/serve_model\")\n",
    "outputs = serving_model.serve(test_data)\n",
    "print(np.argmax(outputs))"
   ]
  }
 ],
 "metadata": {
  "kernelspec": {
   "display_name": "NLP",
   "language": "python",
   "name": "python3"
  },
  "language_info": {
   "codemirror_mode": {
    "name": "ipython",
    "version": 3
   },
   "file_extension": ".py",
   "mimetype": "text/x-python",
   "name": "python",
   "nbconvert_exporter": "python",
   "pygments_lexer": "ipython3",
   "version": "3.11.5"
  }
 },
 "nbformat": 4,
 "nbformat_minor": 2
}
