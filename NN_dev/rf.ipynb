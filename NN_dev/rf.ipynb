{
 "cells": [
  {
   "cell_type": "code",
   "execution_count": 59,
   "metadata": {},
   "outputs": [
    {
     "name": "stdout",
     "output_type": "stream",
     "text": [
      "Found TensorFlow Decision Forests v1.7.0\n",
      "Label classes: ['Adelie', 'Gentoo', 'Chinstrap']\n",
      "239 examples in training, 105 examples for testing.\n"
     ]
    }
   ],
   "source": [
    "import tensorflow_decision_forests as tfdf\n",
    "\n",
    "import os\n",
    "import numpy as np\n",
    "import pandas as pd\n",
    "import tensorflow as tf\n",
    "import math\n",
    "from keras.utils import plot_model\n",
    "import tensorflow_datasets as tfds\n",
    "\n",
    "# Check the version of TensorFlow Decision Forests\n",
    "print(\"Found TensorFlow Decision Forests v\" + tfdf.__version__)\n",
    "# Download the dataset\n",
    "!wget -q https://storage.googleapis.com/download.tensorflow.org/data/palmer_penguins/penguins.csv -O /tmp/penguins.csv\n",
    "\n",
    "# Load a dataset into a Pandas Dataframe.\n",
    "dataset_df = pd.read_csv(\"/tmp/penguins.csv\")\n",
    "\n",
    "# Display the first 3 examples.\n",
    "dataset_df.head(3)\n",
    "# Encode the categorical labels as integers.\n",
    "#\n",
    "# Details:\n",
    "# This stage is necessary if your classification label is represented as a\n",
    "# string since Keras expects integer classification labels.\n",
    "# When using `pd_dataframe_to_tf_dataset` (see below), this step can be skipped.\n",
    "\n",
    "# Name of the label column.\n",
    "label = \"species\"\n",
    "\n",
    "classes = dataset_df[label].unique().tolist()\n",
    "print(f\"Label classes: {classes}\")\n",
    "\n",
    "dataset_df[label] = dataset_df[label].map(classes.index)\n",
    "# Split the dataset into a training and a testing dataset.\n",
    "\n",
    "def split_dataset(dataset, test_ratio=0.30):\n",
    "  \"\"\"Splits a panda dataframe in two.\"\"\"\n",
    "  test_indices = np.random.rand(len(dataset)) < test_ratio\n",
    "  return dataset[~test_indices], dataset[test_indices]\n",
    "\n",
    "\n",
    "train_ds_pd, test_ds_pd = split_dataset(dataset_df)\n",
    "print(\"{} examples in training, {} examples for testing.\".format(\n",
    "    len(train_ds_pd), len(test_ds_pd)))\n",
    "train_ds = tfdf.keras.pd_dataframe_to_tf_dataset(train_ds_pd, label=label)\n",
    "test_ds = tfdf.keras.pd_dataframe_to_tf_dataset(test_ds_pd, label=label)\n"
   ]
  },
  {
   "cell_type": "code",
   "execution_count": 31,
   "metadata": {},
   "outputs": [
    {
     "data": {
      "text/html": [
       "<div>\n",
       "<style scoped>\n",
       "    .dataframe tbody tr th:only-of-type {\n",
       "        vertical-align: middle;\n",
       "    }\n",
       "\n",
       "    .dataframe tbody tr th {\n",
       "        vertical-align: top;\n",
       "    }\n",
       "\n",
       "    .dataframe thead th {\n",
       "        text-align: right;\n",
       "    }\n",
       "</style>\n",
       "<table border=\"1\" class=\"dataframe\">\n",
       "  <thead>\n",
       "    <tr style=\"text-align: right;\">\n",
       "      <th></th>\n",
       "      <th>species</th>\n",
       "      <th>island</th>\n",
       "      <th>bill_length_mm</th>\n",
       "      <th>bill_depth_mm</th>\n",
       "      <th>flipper_length_mm</th>\n",
       "      <th>body_mass_g</th>\n",
       "      <th>sex</th>\n",
       "      <th>year</th>\n",
       "    </tr>\n",
       "  </thead>\n",
       "  <tbody>\n",
       "    <tr>\n",
       "      <th>0</th>\n",
       "      <td>0</td>\n",
       "      <td>Torgersen</td>\n",
       "      <td>39.1</td>\n",
       "      <td>18.7</td>\n",
       "      <td>181.0</td>\n",
       "      <td>3750.0</td>\n",
       "      <td>male</td>\n",
       "      <td>2007</td>\n",
       "    </tr>\n",
       "    <tr>\n",
       "      <th>4</th>\n",
       "      <td>0</td>\n",
       "      <td>Torgersen</td>\n",
       "      <td>36.7</td>\n",
       "      <td>19.3</td>\n",
       "      <td>193.0</td>\n",
       "      <td>3450.0</td>\n",
       "      <td>female</td>\n",
       "      <td>2007</td>\n",
       "    </tr>\n",
       "    <tr>\n",
       "      <th>5</th>\n",
       "      <td>0</td>\n",
       "      <td>Torgersen</td>\n",
       "      <td>39.3</td>\n",
       "      <td>20.6</td>\n",
       "      <td>190.0</td>\n",
       "      <td>3650.0</td>\n",
       "      <td>male</td>\n",
       "      <td>2007</td>\n",
       "    </tr>\n",
       "    <tr>\n",
       "      <th>6</th>\n",
       "      <td>0</td>\n",
       "      <td>Torgersen</td>\n",
       "      <td>38.9</td>\n",
       "      <td>17.8</td>\n",
       "      <td>181.0</td>\n",
       "      <td>3625.0</td>\n",
       "      <td>female</td>\n",
       "      <td>2007</td>\n",
       "    </tr>\n",
       "    <tr>\n",
       "      <th>7</th>\n",
       "      <td>0</td>\n",
       "      <td>Torgersen</td>\n",
       "      <td>39.2</td>\n",
       "      <td>19.6</td>\n",
       "      <td>195.0</td>\n",
       "      <td>4675.0</td>\n",
       "      <td>male</td>\n",
       "      <td>2007</td>\n",
       "    </tr>\n",
       "    <tr>\n",
       "      <th>...</th>\n",
       "      <td>...</td>\n",
       "      <td>...</td>\n",
       "      <td>...</td>\n",
       "      <td>...</td>\n",
       "      <td>...</td>\n",
       "      <td>...</td>\n",
       "      <td>...</td>\n",
       "      <td>...</td>\n",
       "    </tr>\n",
       "    <tr>\n",
       "      <th>339</th>\n",
       "      <td>2</td>\n",
       "      <td>Dream</td>\n",
       "      <td>55.8</td>\n",
       "      <td>19.8</td>\n",
       "      <td>207.0</td>\n",
       "      <td>4000.0</td>\n",
       "      <td>male</td>\n",
       "      <td>2009</td>\n",
       "    </tr>\n",
       "    <tr>\n",
       "      <th>340</th>\n",
       "      <td>2</td>\n",
       "      <td>Dream</td>\n",
       "      <td>43.5</td>\n",
       "      <td>18.1</td>\n",
       "      <td>202.0</td>\n",
       "      <td>3400.0</td>\n",
       "      <td>female</td>\n",
       "      <td>2009</td>\n",
       "    </tr>\n",
       "    <tr>\n",
       "      <th>341</th>\n",
       "      <td>2</td>\n",
       "      <td>Dream</td>\n",
       "      <td>49.6</td>\n",
       "      <td>18.2</td>\n",
       "      <td>193.0</td>\n",
       "      <td>3775.0</td>\n",
       "      <td>male</td>\n",
       "      <td>2009</td>\n",
       "    </tr>\n",
       "    <tr>\n",
       "      <th>342</th>\n",
       "      <td>2</td>\n",
       "      <td>Dream</td>\n",
       "      <td>50.8</td>\n",
       "      <td>19.0</td>\n",
       "      <td>210.0</td>\n",
       "      <td>4100.0</td>\n",
       "      <td>male</td>\n",
       "      <td>2009</td>\n",
       "    </tr>\n",
       "    <tr>\n",
       "      <th>343</th>\n",
       "      <td>2</td>\n",
       "      <td>Dream</td>\n",
       "      <td>50.2</td>\n",
       "      <td>18.7</td>\n",
       "      <td>198.0</td>\n",
       "      <td>3775.0</td>\n",
       "      <td>female</td>\n",
       "      <td>2009</td>\n",
       "    </tr>\n",
       "  </tbody>\n",
       "</table>\n",
       "<p>228 rows × 8 columns</p>\n",
       "</div>"
      ],
      "text/plain": [
       "     species     island  bill_length_mm  bill_depth_mm  flipper_length_mm  \\\n",
       "0          0  Torgersen            39.1           18.7              181.0   \n",
       "4          0  Torgersen            36.7           19.3              193.0   \n",
       "5          0  Torgersen            39.3           20.6              190.0   \n",
       "6          0  Torgersen            38.9           17.8              181.0   \n",
       "7          0  Torgersen            39.2           19.6              195.0   \n",
       "..       ...        ...             ...            ...                ...   \n",
       "339        2      Dream            55.8           19.8              207.0   \n",
       "340        2      Dream            43.5           18.1              202.0   \n",
       "341        2      Dream            49.6           18.2              193.0   \n",
       "342        2      Dream            50.8           19.0              210.0   \n",
       "343        2      Dream            50.2           18.7              198.0   \n",
       "\n",
       "     body_mass_g     sex  year  \n",
       "0         3750.0    male  2007  \n",
       "4         3450.0  female  2007  \n",
       "5         3650.0    male  2007  \n",
       "6         3625.0  female  2007  \n",
       "7         4675.0    male  2007  \n",
       "..           ...     ...   ...  \n",
       "339       4000.0    male  2009  \n",
       "340       3400.0  female  2009  \n",
       "341       3775.0    male  2009  \n",
       "342       4100.0    male  2009  \n",
       "343       3775.0  female  2009  \n",
       "\n",
       "[228 rows x 8 columns]"
      ]
     },
     "execution_count": 31,
     "metadata": {},
     "output_type": "execute_result"
    }
   ],
   "source": [
    "import tensorflow_datasets as tfds\n",
    "# train_ds_pd = train_ds_pd.dropna(how='all', inplace=True)\n",
    "train_ds_pd"
   ]
  },
  {
   "cell_type": "code",
   "execution_count": 61,
   "metadata": {},
   "outputs": [],
   "source": [
    "traisa = train_ds_pd[train_ds_pd.columns[2:4]]\n",
    "traisa = traisa.assign(lb=train_ds_pd['species'])\n",
    "testa = test_ds_pd[test_ds_pd.columns[2:4]]\n",
    "testa = testa.assign(lb=test_ds_pd['species'])"
   ]
  },
  {
   "cell_type": "code",
   "execution_count": 62,
   "metadata": {},
   "outputs": [
    {
     "data": {
      "text/html": [
       "<div>\n",
       "<style scoped>\n",
       "    .dataframe tbody tr th:only-of-type {\n",
       "        vertical-align: middle;\n",
       "    }\n",
       "\n",
       "    .dataframe tbody tr th {\n",
       "        vertical-align: top;\n",
       "    }\n",
       "\n",
       "    .dataframe thead th {\n",
       "        text-align: right;\n",
       "    }\n",
       "</style>\n",
       "<table border=\"1\" class=\"dataframe\">\n",
       "  <thead>\n",
       "    <tr style=\"text-align: right;\">\n",
       "      <th></th>\n",
       "      <th>bill_length_mm</th>\n",
       "      <th>bill_depth_mm</th>\n",
       "      <th>lb</th>\n",
       "    </tr>\n",
       "  </thead>\n",
       "  <tbody>\n",
       "    <tr>\n",
       "      <th>0</th>\n",
       "      <td>39.1</td>\n",
       "      <td>18.7</td>\n",
       "      <td>0</td>\n",
       "    </tr>\n",
       "    <tr>\n",
       "      <th>1</th>\n",
       "      <td>39.5</td>\n",
       "      <td>17.4</td>\n",
       "      <td>0</td>\n",
       "    </tr>\n",
       "    <tr>\n",
       "      <th>2</th>\n",
       "      <td>40.3</td>\n",
       "      <td>18.0</td>\n",
       "      <td>0</td>\n",
       "    </tr>\n",
       "    <tr>\n",
       "      <th>4</th>\n",
       "      <td>36.7</td>\n",
       "      <td>19.3</td>\n",
       "      <td>0</td>\n",
       "    </tr>\n",
       "    <tr>\n",
       "      <th>5</th>\n",
       "      <td>39.3</td>\n",
       "      <td>20.6</td>\n",
       "      <td>0</td>\n",
       "    </tr>\n",
       "    <tr>\n",
       "      <th>...</th>\n",
       "      <td>...</td>\n",
       "      <td>...</td>\n",
       "      <td>...</td>\n",
       "    </tr>\n",
       "    <tr>\n",
       "      <th>329</th>\n",
       "      <td>50.7</td>\n",
       "      <td>19.7</td>\n",
       "      <td>2</td>\n",
       "    </tr>\n",
       "    <tr>\n",
       "      <th>333</th>\n",
       "      <td>49.3</td>\n",
       "      <td>19.9</td>\n",
       "      <td>2</td>\n",
       "    </tr>\n",
       "    <tr>\n",
       "      <th>337</th>\n",
       "      <td>46.8</td>\n",
       "      <td>16.5</td>\n",
       "      <td>2</td>\n",
       "    </tr>\n",
       "    <tr>\n",
       "      <th>338</th>\n",
       "      <td>45.7</td>\n",
       "      <td>17.0</td>\n",
       "      <td>2</td>\n",
       "    </tr>\n",
       "    <tr>\n",
       "      <th>340</th>\n",
       "      <td>43.5</td>\n",
       "      <td>18.1</td>\n",
       "      <td>2</td>\n",
       "    </tr>\n",
       "  </tbody>\n",
       "</table>\n",
       "<p>105 rows × 3 columns</p>\n",
       "</div>"
      ],
      "text/plain": [
       "     bill_length_mm  bill_depth_mm  lb\n",
       "0              39.1           18.7   0\n",
       "1              39.5           17.4   0\n",
       "2              40.3           18.0   0\n",
       "4              36.7           19.3   0\n",
       "5              39.3           20.6   0\n",
       "..              ...            ...  ..\n",
       "329            50.7           19.7   2\n",
       "333            49.3           19.9   2\n",
       "337            46.8           16.5   2\n",
       "338            45.7           17.0   2\n",
       "340            43.5           18.1   2\n",
       "\n",
       "[105 rows x 3 columns]"
      ]
     },
     "execution_count": 62,
     "metadata": {},
     "output_type": "execute_result"
    }
   ],
   "source": [
    "testa"
   ]
  },
  {
   "cell_type": "code",
   "execution_count": 33,
   "metadata": {},
   "outputs": [
    {
     "data": {
      "text/plain": [
       "(228, 3)"
      ]
     },
     "execution_count": 33,
     "metadata": {},
     "output_type": "execute_result"
    }
   ],
   "source": [
    "traisa.shape"
   ]
  },
  {
   "cell_type": "code",
   "execution_count": 63,
   "metadata": {},
   "outputs": [
    {
     "data": {
      "text/plain": [
       "array([0, 0, 0, 0, 0, 0, 0, 0, 0, 0, 0, 0, 0, 0, 0, 0, 0, 0, 0, 0, 0, 0,\n",
       "       0, 0, 0, 0, 0, 0, 0, 0, 0, 0, 0, 0, 0, 0, 0, 0, 0, 0, 0, 0, 0, 0,\n",
       "       0, 0, 0, 0, 0, 0, 1, 1, 1, 1, 1, 1, 1, 1, 1, 1, 1, 1, 1, 1, 1, 1,\n",
       "       1, 1, 1, 1, 1, 1, 1, 1, 1, 1, 1, 1, 1, 1, 1, 1, 1, 1, 1, 1, 2, 2,\n",
       "       2, 2, 2, 2, 2, 2, 2, 2, 2, 2, 2, 2, 2, 2, 2, 2, 2])"
      ]
     },
     "execution_count": 63,
     "metadata": {},
     "output_type": "execute_result"
    }
   ],
   "source": [
    "traisa_X = traisa[traisa.columns[0:2]].to_numpy()\n",
    "traisa_y = traisa['lb'].to_numpy()\n",
    "testsa_X = testa[testa.columns[0:2]].to_numpy()\n",
    "testsa_y = testa['lb'].to_numpy()\n",
    "testsa_y"
   ]
  },
  {
   "cell_type": "code",
   "execution_count": 20,
   "metadata": {},
   "outputs": [
    {
     "data": {
      "text/plain": [
       "(243, 2)"
      ]
     },
     "execution_count": 20,
     "metadata": {},
     "output_type": "execute_result"
    }
   ],
   "source": [
    "traisa_X.shape"
   ]
  },
  {
   "cell_type": "code",
   "execution_count": 4,
   "metadata": {},
   "outputs": [
    {
     "name": "stdout",
     "output_type": "stream",
     "text": [
      "/bin/bash: set_cell_height: command not found\n"
     ]
    }
   ],
   "source": [
    "!set_cell_height 300"
   ]
  },
  {
   "cell_type": "code",
   "execution_count": 95,
   "metadata": {},
   "outputs": [
    {
     "name": "stdout",
     "output_type": "stream",
     "text": [
      "Use 12 thread(s) for training\n",
      "Use /tmp/tmp0uqokby6 as temporary training directory\n",
      "Warning: The model was called directly (i.e. using `model(data)` instead of using `model.predict(data)`) before being trained. The model will only return zeros until trained. The output shape might change after training Tensor(\"inputs:0\", shape=(None, 2), dtype=float32)\n"
     ]
    },
    {
     "name": "stderr",
     "output_type": "stream",
     "text": [
      "WARNING:absl:The model was called directly (i.e. using `model(data)` instead of using `model.predict(data)`) before being trained. The model will only return zeros until trained. The output shape might change after training Tensor(\"inputs:0\", shape=(None, 2), dtype=float32)\n"
     ]
    },
    {
     "name": "stdout",
     "output_type": "stream",
     "text": [
      "Epoch 1/100\n",
      "Warning: The model was called directly (i.e. using `model(data)` instead of using `model.predict(data)`) before being trained. The model will only return zeros until trained. The output shape might change after training Tensor(\"inputs:0\", shape=(None, 2), dtype=float32)\n"
     ]
    },
    {
     "name": "stderr",
     "output_type": "stream",
     "text": [
      "WARNING:absl:The model was called directly (i.e. using `model(data)` instead of using `model.predict(data)`) before being trained. The model will only return zeros until trained. The output shape might change after training Tensor(\"inputs:0\", shape=(None, 2), dtype=float32)\n"
     ]
    },
    {
     "name": "stdout",
     "output_type": "stream",
     "text": [
      "6/6 [==============================] - 1s 39ms/step - loss: 7.2683 - accuracy: 0.5340 - val_loss: 30.8499 - val_accuracy: 0.0000e+00\n",
      "Epoch 2/100\n",
      "6/6 [==============================] - 0s 11ms/step - loss: 7.2683 - accuracy: 0.5340 - val_loss: 30.8499 - val_accuracy: 0.0000e+00\n",
      "Epoch 3/100\n",
      "6/6 [==============================] - 0s 13ms/step - loss: 7.2683 - accuracy: 0.5340 - val_loss: 30.8499 - val_accuracy: 0.0000e+00\n",
      "Epoch 4/100\n",
      "6/6 [==============================] - 0s 10ms/step - loss: 7.2683 - accuracy: 0.5340 - val_loss: 30.8499 - val_accuracy: 0.0000e+00\n",
      "Epoch 5/100\n",
      "6/6 [==============================] - 0s 10ms/step - loss: 7.2683 - accuracy: 0.5340 - val_loss: 30.8499 - val_accuracy: 0.0000e+00\n",
      "Epoch 6/100\n",
      "6/6 [==============================] - 0s 10ms/step - loss: 7.2683 - accuracy: 0.5340 - val_loss: 30.8499 - val_accuracy: 0.0000e+00\n",
      "Epoch 7/100\n",
      "6/6 [==============================] - 0s 10ms/step - loss: 7.2683 - accuracy: 0.5340 - val_loss: 30.8499 - val_accuracy: 0.0000e+00\n",
      "Epoch 8/100\n",
      "6/6 [==============================] - 0s 9ms/step - loss: 7.2683 - accuracy: 0.5340 - val_loss: 30.8499 - val_accuracy: 0.0000e+00\n",
      "Epoch 9/100\n",
      "6/6 [==============================] - 0s 10ms/step - loss: 7.2683 - accuracy: 0.5340 - val_loss: 30.8499 - val_accuracy: 0.0000e+00\n",
      "Epoch 10/100\n",
      "6/6 [==============================] - 0s 9ms/step - loss: 7.2683 - accuracy: 0.5340 - val_loss: 30.8499 - val_accuracy: 0.0000e+00\n",
      "Epoch 11/100\n",
      "6/6 [==============================] - 0s 10ms/step - loss: 7.2683 - accuracy: 0.5340 - val_loss: 30.8499 - val_accuracy: 0.0000e+00\n",
      "Epoch 12/100\n",
      "6/6 [==============================] - 0s 10ms/step - loss: 7.2683 - accuracy: 0.5340 - val_loss: 30.8499 - val_accuracy: 0.0000e+00\n",
      "Epoch 13/100\n",
      "6/6 [==============================] - 0s 9ms/step - loss: 7.2683 - accuracy: 0.5340 - val_loss: 30.8499 - val_accuracy: 0.0000e+00\n",
      "Epoch 14/100\n",
      "6/6 [==============================] - 0s 9ms/step - loss: 7.2683 - accuracy: 0.5340 - val_loss: 30.8499 - val_accuracy: 0.0000e+00\n",
      "Epoch 15/100\n",
      "6/6 [==============================] - 0s 9ms/step - loss: 7.2683 - accuracy: 0.5340 - val_loss: 30.8499 - val_accuracy: 0.0000e+00\n",
      "Epoch 16/100\n",
      "6/6 [==============================] - 0s 9ms/step - loss: 7.2683 - accuracy: 0.5340 - val_loss: 30.8499 - val_accuracy: 0.0000e+00\n",
      "Epoch 17/100\n",
      "6/6 [==============================] - 0s 9ms/step - loss: 7.2683 - accuracy: 0.5340 - val_loss: 30.8499 - val_accuracy: 0.0000e+00\n",
      "Epoch 18/100\n",
      "6/6 [==============================] - 0s 9ms/step - loss: 7.2683 - accuracy: 0.5340 - val_loss: 30.8499 - val_accuracy: 0.0000e+00\n",
      "Epoch 19/100\n",
      "6/6 [==============================] - 0s 9ms/step - loss: 7.2683 - accuracy: 0.5340 - val_loss: 30.8499 - val_accuracy: 0.0000e+00\n",
      "Epoch 20/100\n",
      "6/6 [==============================] - 0s 8ms/step - loss: 7.2683 - accuracy: 0.5340 - val_loss: 30.8499 - val_accuracy: 0.0000e+00\n",
      "Epoch 21/100\n",
      "6/6 [==============================] - 0s 8ms/step - loss: 7.2683 - accuracy: 0.5340 - val_loss: 30.8499 - val_accuracy: 0.0000e+00\n",
      "Epoch 22/100\n",
      "6/6 [==============================] - 0s 9ms/step - loss: 7.2683 - accuracy: 0.5340 - val_loss: 30.8499 - val_accuracy: 0.0000e+00\n",
      "Epoch 23/100\n",
      "6/6 [==============================] - 0s 9ms/step - loss: 7.2683 - accuracy: 0.5340 - val_loss: 30.8499 - val_accuracy: 0.0000e+00\n",
      "Epoch 24/100\n",
      "6/6 [==============================] - 0s 9ms/step - loss: 7.2683 - accuracy: 0.5340 - val_loss: 30.8499 - val_accuracy: 0.0000e+00\n",
      "Epoch 25/100\n",
      "6/6 [==============================] - 0s 9ms/step - loss: 7.2683 - accuracy: 0.5340 - val_loss: 30.8499 - val_accuracy: 0.0000e+00\n",
      "Epoch 26/100\n",
      "6/6 [==============================] - 0s 9ms/step - loss: 7.2683 - accuracy: 0.5340 - val_loss: 30.8499 - val_accuracy: 0.0000e+00\n",
      "Epoch 27/100\n",
      "6/6 [==============================] - 0s 8ms/step - loss: 7.2683 - accuracy: 0.5340 - val_loss: 30.8499 - val_accuracy: 0.0000e+00\n",
      "Epoch 28/100\n",
      "6/6 [==============================] - 0s 8ms/step - loss: 7.2683 - accuracy: 0.5340 - val_loss: 30.8499 - val_accuracy: 0.0000e+00\n",
      "Epoch 29/100\n",
      "6/6 [==============================] - 0s 9ms/step - loss: 7.2683 - accuracy: 0.5340 - val_loss: 30.8499 - val_accuracy: 0.0000e+00\n",
      "Epoch 30/100\n",
      "6/6 [==============================] - 0s 9ms/step - loss: 7.2683 - accuracy: 0.5340 - val_loss: 30.8499 - val_accuracy: 0.0000e+00\n",
      "Epoch 31/100\n",
      "6/6 [==============================] - 0s 9ms/step - loss: 7.2683 - accuracy: 0.5340 - val_loss: 30.8499 - val_accuracy: 0.0000e+00\n",
      "Epoch 32/100\n",
      "6/6 [==============================] - 0s 9ms/step - loss: 7.2683 - accuracy: 0.5340 - val_loss: 30.8499 - val_accuracy: 0.0000e+00\n",
      "Epoch 33/100\n",
      "6/6 [==============================] - 0s 9ms/step - loss: 7.2683 - accuracy: 0.5340 - val_loss: 30.8499 - val_accuracy: 0.0000e+00\n",
      "Epoch 34/100\n",
      "6/6 [==============================] - 0s 9ms/step - loss: 7.2683 - accuracy: 0.5340 - val_loss: 30.8499 - val_accuracy: 0.0000e+00\n",
      "Epoch 35/100\n",
      "6/6 [==============================] - 0s 9ms/step - loss: 7.2683 - accuracy: 0.5340 - val_loss: 30.8499 - val_accuracy: 0.0000e+00\n",
      "Epoch 36/100\n",
      "6/6 [==============================] - 0s 9ms/step - loss: 7.2683 - accuracy: 0.5340 - val_loss: 30.8499 - val_accuracy: 0.0000e+00\n",
      "Epoch 37/100\n",
      "6/6 [==============================] - 0s 9ms/step - loss: 7.2683 - accuracy: 0.5340 - val_loss: 30.8499 - val_accuracy: 0.0000e+00\n",
      "Epoch 38/100\n",
      "6/6 [==============================] - 0s 10ms/step - loss: 7.2683 - accuracy: 0.5340 - val_loss: 30.8499 - val_accuracy: 0.0000e+00\n",
      "Epoch 39/100\n",
      "6/6 [==============================] - 0s 10ms/step - loss: 7.2683 - accuracy: 0.5340 - val_loss: 30.8499 - val_accuracy: 0.0000e+00\n",
      "Epoch 40/100\n",
      "6/6 [==============================] - 0s 9ms/step - loss: 7.2683 - accuracy: 0.5340 - val_loss: 30.8499 - val_accuracy: 0.0000e+00\n",
      "Epoch 41/100\n",
      "6/6 [==============================] - 0s 9ms/step - loss: 7.2683 - accuracy: 0.5340 - val_loss: 30.8499 - val_accuracy: 0.0000e+00\n",
      "Epoch 42/100\n",
      "6/6 [==============================] - 0s 8ms/step - loss: 7.2683 - accuracy: 0.5340 - val_loss: 30.8499 - val_accuracy: 0.0000e+00\n",
      "Epoch 43/100\n",
      "6/6 [==============================] - 0s 9ms/step - loss: 7.2683 - accuracy: 0.5340 - val_loss: 30.8499 - val_accuracy: 0.0000e+00\n",
      "Epoch 44/100\n",
      "6/6 [==============================] - 0s 8ms/step - loss: 7.2683 - accuracy: 0.5340 - val_loss: 30.8499 - val_accuracy: 0.0000e+00\n",
      "Epoch 45/100\n",
      "6/6 [==============================] - 0s 8ms/step - loss: 7.2683 - accuracy: 0.5340 - val_loss: 30.8499 - val_accuracy: 0.0000e+00\n",
      "Epoch 46/100\n",
      "6/6 [==============================] - 0s 10ms/step - loss: 7.2683 - accuracy: 0.5340 - val_loss: 30.8499 - val_accuracy: 0.0000e+00\n",
      "Epoch 47/100\n",
      "6/6 [==============================] - 0s 10ms/step - loss: 7.2683 - accuracy: 0.5340 - val_loss: 30.8499 - val_accuracy: 0.0000e+00\n",
      "Epoch 48/100\n",
      "6/6 [==============================] - 0s 10ms/step - loss: 7.2683 - accuracy: 0.5340 - val_loss: 30.8499 - val_accuracy: 0.0000e+00\n",
      "Epoch 49/100\n",
      "6/6 [==============================] - 0s 9ms/step - loss: 7.2683 - accuracy: 0.5340 - val_loss: 30.8499 - val_accuracy: 0.0000e+00\n",
      "Epoch 50/100\n",
      "6/6 [==============================] - 0s 8ms/step - loss: 7.2683 - accuracy: 0.5340 - val_loss: 30.8499 - val_accuracy: 0.0000e+00\n",
      "Epoch 51/100\n",
      "6/6 [==============================] - 0s 9ms/step - loss: 7.2683 - accuracy: 0.5340 - val_loss: 30.8499 - val_accuracy: 0.0000e+00\n",
      "Epoch 52/100\n",
      "6/6 [==============================] - 0s 8ms/step - loss: 7.2683 - accuracy: 0.5340 - val_loss: 30.8499 - val_accuracy: 0.0000e+00\n",
      "Epoch 53/100\n",
      "6/6 [==============================] - 0s 9ms/step - loss: 7.2683 - accuracy: 0.5340 - val_loss: 30.8499 - val_accuracy: 0.0000e+00\n",
      "Epoch 54/100\n",
      "6/6 [==============================] - 0s 8ms/step - loss: 7.2683 - accuracy: 0.5340 - val_loss: 30.8499 - val_accuracy: 0.0000e+00\n",
      "Epoch 55/100\n",
      "6/6 [==============================] - 0s 9ms/step - loss: 7.2683 - accuracy: 0.5340 - val_loss: 30.8499 - val_accuracy: 0.0000e+00\n",
      "Epoch 56/100\n",
      "6/6 [==============================] - 0s 9ms/step - loss: 7.2683 - accuracy: 0.5340 - val_loss: 30.8499 - val_accuracy: 0.0000e+00\n",
      "Epoch 57/100\n",
      "6/6 [==============================] - 0s 8ms/step - loss: 7.2683 - accuracy: 0.5340 - val_loss: 30.8499 - val_accuracy: 0.0000e+00\n",
      "Epoch 58/100\n",
      "6/6 [==============================] - 0s 12ms/step - loss: 7.2683 - accuracy: 0.5340 - val_loss: 30.8499 - val_accuracy: 0.0000e+00\n",
      "Epoch 59/100\n",
      "6/6 [==============================] - 0s 11ms/step - loss: 7.2683 - accuracy: 0.5340 - val_loss: 30.8499 - val_accuracy: 0.0000e+00\n",
      "Epoch 60/100\n",
      "6/6 [==============================] - 0s 9ms/step - loss: 7.2683 - accuracy: 0.5340 - val_loss: 30.8499 - val_accuracy: 0.0000e+00\n",
      "Epoch 61/100\n",
      "6/6 [==============================] - 0s 10ms/step - loss: 7.2683 - accuracy: 0.5340 - val_loss: 30.8499 - val_accuracy: 0.0000e+00\n",
      "Epoch 62/100\n",
      "6/6 [==============================] - 0s 8ms/step - loss: 7.2683 - accuracy: 0.5340 - val_loss: 30.8499 - val_accuracy: 0.0000e+00\n",
      "Epoch 63/100\n",
      "6/6 [==============================] - 0s 9ms/step - loss: 7.2683 - accuracy: 0.5340 - val_loss: 30.8499 - val_accuracy: 0.0000e+00\n",
      "Epoch 64/100\n",
      "6/6 [==============================] - 0s 9ms/step - loss: 7.2683 - accuracy: 0.5340 - val_loss: 30.8499 - val_accuracy: 0.0000e+00\n",
      "Epoch 65/100\n",
      "6/6 [==============================] - 0s 10ms/step - loss: 7.2683 - accuracy: 0.5340 - val_loss: 30.8499 - val_accuracy: 0.0000e+00\n",
      "Epoch 66/100\n",
      "6/6 [==============================] - 0s 9ms/step - loss: 7.2683 - accuracy: 0.5340 - val_loss: 30.8499 - val_accuracy: 0.0000e+00\n",
      "Epoch 67/100\n",
      "6/6 [==============================] - 0s 8ms/step - loss: 7.2683 - accuracy: 0.5340 - val_loss: 30.8499 - val_accuracy: 0.0000e+00\n",
      "Epoch 68/100\n",
      "6/6 [==============================] - 0s 9ms/step - loss: 7.2683 - accuracy: 0.5340 - val_loss: 30.8499 - val_accuracy: 0.0000e+00\n",
      "Epoch 69/100\n",
      "6/6 [==============================] - 0s 8ms/step - loss: 7.2683 - accuracy: 0.5340 - val_loss: 30.8499 - val_accuracy: 0.0000e+00\n",
      "Epoch 70/100\n",
      "6/6 [==============================] - 0s 8ms/step - loss: 7.2683 - accuracy: 0.5340 - val_loss: 30.8499 - val_accuracy: 0.0000e+00\n",
      "Epoch 71/100\n",
      "6/6 [==============================] - 0s 9ms/step - loss: 7.2683 - accuracy: 0.5340 - val_loss: 30.8499 - val_accuracy: 0.0000e+00\n",
      "Epoch 72/100\n",
      "6/6 [==============================] - 0s 9ms/step - loss: 7.2683 - accuracy: 0.5340 - val_loss: 30.8499 - val_accuracy: 0.0000e+00\n",
      "Epoch 73/100\n",
      "6/6 [==============================] - 0s 8ms/step - loss: 7.2683 - accuracy: 0.5340 - val_loss: 30.8499 - val_accuracy: 0.0000e+00\n",
      "Epoch 74/100\n",
      "6/6 [==============================] - 0s 9ms/step - loss: 7.2683 - accuracy: 0.5340 - val_loss: 30.8499 - val_accuracy: 0.0000e+00\n",
      "Epoch 75/100\n",
      "6/6 [==============================] - 0s 9ms/step - loss: 7.2683 - accuracy: 0.5340 - val_loss: 30.8499 - val_accuracy: 0.0000e+00\n",
      "Epoch 76/100\n",
      "6/6 [==============================] - 0s 8ms/step - loss: 7.2683 - accuracy: 0.5340 - val_loss: 30.8499 - val_accuracy: 0.0000e+00\n",
      "Epoch 77/100\n",
      "6/6 [==============================] - 0s 9ms/step - loss: 7.2683 - accuracy: 0.5340 - val_loss: 30.8499 - val_accuracy: 0.0000e+00\n",
      "Epoch 78/100\n",
      "6/6 [==============================] - 0s 9ms/step - loss: 7.2683 - accuracy: 0.5340 - val_loss: 30.8499 - val_accuracy: 0.0000e+00\n",
      "Epoch 79/100\n",
      "6/6 [==============================] - 0s 9ms/step - loss: 7.2683 - accuracy: 0.5340 - val_loss: 30.8499 - val_accuracy: 0.0000e+00\n",
      "Epoch 80/100\n",
      "6/6 [==============================] - 0s 9ms/step - loss: 7.2683 - accuracy: 0.5340 - val_loss: 30.8499 - val_accuracy: 0.0000e+00\n",
      "Epoch 81/100\n",
      "6/6 [==============================] - 0s 9ms/step - loss: 7.2683 - accuracy: 0.5340 - val_loss: 30.8499 - val_accuracy: 0.0000e+00\n",
      "Epoch 82/100\n",
      "6/6 [==============================] - 0s 8ms/step - loss: 7.2683 - accuracy: 0.5340 - val_loss: 30.8499 - val_accuracy: 0.0000e+00\n",
      "Epoch 83/100\n",
      "6/6 [==============================] - 0s 8ms/step - loss: 7.2683 - accuracy: 0.5340 - val_loss: 30.8499 - val_accuracy: 0.0000e+00\n",
      "Epoch 84/100\n",
      "6/6 [==============================] - 0s 10ms/step - loss: 7.2683 - accuracy: 0.5340 - val_loss: 30.8499 - val_accuracy: 0.0000e+00\n",
      "Epoch 85/100\n",
      "6/6 [==============================] - 0s 9ms/step - loss: 7.2683 - accuracy: 0.5340 - val_loss: 30.8499 - val_accuracy: 0.0000e+00\n",
      "Epoch 86/100\n",
      "6/6 [==============================] - 0s 8ms/step - loss: 7.2683 - accuracy: 0.5340 - val_loss: 30.8499 - val_accuracy: 0.0000e+00\n",
      "Epoch 87/100\n",
      "6/6 [==============================] - 0s 8ms/step - loss: 7.2683 - accuracy: 0.5340 - val_loss: 30.8499 - val_accuracy: 0.0000e+00\n",
      "Epoch 88/100\n",
      "6/6 [==============================] - 0s 8ms/step - loss: 7.2683 - accuracy: 0.5340 - val_loss: 30.8499 - val_accuracy: 0.0000e+00\n",
      "Epoch 89/100\n",
      "6/6 [==============================] - 0s 9ms/step - loss: 7.2683 - accuracy: 0.5340 - val_loss: 30.8499 - val_accuracy: 0.0000e+00\n",
      "Epoch 90/100\n",
      "6/6 [==============================] - 0s 10ms/step - loss: 7.2683 - accuracy: 0.5340 - val_loss: 30.8499 - val_accuracy: 0.0000e+00\n",
      "Epoch 91/100\n",
      "6/6 [==============================] - 0s 9ms/step - loss: 7.2683 - accuracy: 0.5340 - val_loss: 30.8499 - val_accuracy: 0.0000e+00\n",
      "Epoch 92/100\n",
      "6/6 [==============================] - 0s 8ms/step - loss: 7.2683 - accuracy: 0.5340 - val_loss: 30.8499 - val_accuracy: 0.0000e+00\n",
      "Epoch 93/100\n",
      "6/6 [==============================] - 0s 9ms/step - loss: 7.2683 - accuracy: 0.5340 - val_loss: 30.8499 - val_accuracy: 0.0000e+00\n",
      "Epoch 94/100\n",
      "6/6 [==============================] - 0s 9ms/step - loss: 7.2683 - accuracy: 0.5340 - val_loss: 30.8499 - val_accuracy: 0.0000e+00\n",
      "Epoch 95/100\n",
      "6/6 [==============================] - 0s 9ms/step - loss: 7.2683 - accuracy: 0.5340 - val_loss: 30.8499 - val_accuracy: 0.0000e+00\n",
      "Epoch 96/100\n",
      "6/6 [==============================] - 0s 8ms/step - loss: 7.2683 - accuracy: 0.5340 - val_loss: 30.8499 - val_accuracy: 0.0000e+00\n",
      "Epoch 97/100\n",
      "6/6 [==============================] - 0s 8ms/step - loss: 7.2683 - accuracy: 0.5340 - val_loss: 30.8499 - val_accuracy: 0.0000e+00\n",
      "Epoch 98/100\n",
      "6/6 [==============================] - 0s 8ms/step - loss: 7.2683 - accuracy: 0.5340 - val_loss: 30.8499 - val_accuracy: 0.0000e+00\n",
      "Epoch 99/100\n",
      "6/6 [==============================] - 0s 8ms/step - loss: 7.2683 - accuracy: 0.5340 - val_loss: 30.8499 - val_accuracy: 0.0000e+00\n",
      "Epoch 100/100\n",
      "6/6 [==============================] - 0s 8ms/step - loss: 7.2683 - accuracy: 0.5340 - val_loss: 30.8499 - val_accuracy: 0.0000e+00\n"
     ]
    },
    {
     "data": {
      "text/plain": [
       "<keras.src.callbacks.History at 0x7f14f4941710>"
      ]
     },
     "execution_count": 95,
     "metadata": {},
     "output_type": "execute_result"
    }
   ],
   "source": []
  },
  {
   "cell_type": "code",
   "execution_count": 83,
   "metadata": {},
   "outputs": [
    {
     "data": {
      "text/plain": [
       "105"
      ]
     },
     "execution_count": 83,
     "metadata": {},
     "output_type": "execute_result"
    }
   ],
   "source": [
    "len(testsa_y)"
   ]
  },
  {
   "cell_type": "code",
   "execution_count": 96,
   "metadata": {},
   "outputs": [
    {
     "name": "stdout",
     "output_type": "stream",
     "text": [
      "4/4 [==============================] - 0s 3ms/step - loss: 9.8720 - accuracy: 0.5000\n"
     ]
    }
   ],
   "source": []
  },
  {
   "cell_type": "code",
   "execution_count": 97,
   "metadata": {},
   "outputs": [
    {
     "name": "stdout",
     "output_type": "stream",
     "text": [
      "Warning: The model was called directly (i.e. using `model(data)` instead of using `model.predict(data)`) before being trained. The model will only return zeros until trained. The output shape might change after training Tensor(\"inputs:0\", dtype=float32)\n"
     ]
    },
    {
     "name": "stderr",
     "output_type": "stream",
     "text": [
      "WARNING:absl:The model was called directly (i.e. using `model(data)` instead of using `model.predict(data)`) before being trained. The model will only return zeros until trained. The output shape might change after training Tensor(\"inputs:0\", dtype=float32)\n"
     ]
    },
    {
     "name": "stdout",
     "output_type": "stream",
     "text": [
      "1/1 [==============================] - 0s 70ms/step\n",
      "0\n"
     ]
    }
   ],
   "source": [
    "t = model_1.predict(testsa_X[-2])\n",
    "t = np.argmax(t)\n",
    "print(t)"
   ]
  },
  {
   "cell_type": "code",
   "execution_count": 98,
   "metadata": {},
   "outputs": [
    {
     "data": {
      "image/png": "[encoded data removed]",
      "text/plain": [
       "<IPython.core.display.Image object>"
      ]
     },
     "execution_count": 98,
     "metadata": {},
     "output_type": "execute_result"
    }
   ],
   "source": [
    "plot_model(model_1, to_file=\"/tmp/model.png\", show_shapes=True)"
   ]
  }
 ],
 "metadata": {
  "kernelspec": {
   "display_name": "test",
   "language": "python",
   "name": "python3"
  },
  "language_info": {
   "codemirror_mode": {
    "name": "ipython",
    "version": 3
   },
   "file_extension": ".py",
   "mimetype": "text/x-python",
   "name": "python",
   "nbconvert_exporter": "python",
   "pygments_lexer": "ipython3",
   "version": "3.11.5"
  }
 },
 "nbformat": 4,
 "nbformat_minor": 2
}
